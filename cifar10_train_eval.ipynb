{
  "cells": [
    {
      "cell_type": "code",
      "source": [
        "from google.colab import drive\n",
        "drive.mount('/content/drive')"
      ],
      "metadata": {
        "colab": {
          "base_uri": "https://localhost:8080/"
        },
        "id": "ppJ3gVMl_yFL",
        "outputId": "13006ffe-0080-43ca-b131-a18abc2f86b3"
      },
      "id": "ppJ3gVMl_yFL",
      "execution_count": 1,
      "outputs": [
        {
          "output_type": "stream",
          "name": "stdout",
          "text": [
            "Mounted at /content/drive\n"
          ]
        }
      ]
    },
    {
      "cell_type": "code",
      "source": [
        "import os\n",
        "project_path = '/content/drive/MyDrive/BLG454EProject'\n",
        "os.chdir(project_path)\n",
        "\n",
        "!ls"
      ],
      "metadata": {
        "colab": {
          "base_uri": "https://localhost:8080/"
        },
        "id": "MnKrD8vr_zlq",
        "outputId": "bd256cce-be18-4905-eb59-a839cc7360c2"
      },
      "id": "MnKrD8vr_zlq",
      "execution_count": 2,
      "outputs": [
        {
          "output_type": "stream",
          "name": "stdout",
          "text": [
            "cifar10_train_eval.ipynb  fashion_train_eval.ipynb\n",
            "distiller\t\t  mnist_train_eval.ipynb\n"
          ]
        }
      ]
    },
    {
      "cell_type": "markdown",
      "id": "bf30daf6",
      "metadata": {
        "id": "bf30daf6"
      },
      "source": [
        "This notebook compares how well a simple **ConvNet** model performs when trained on:\n",
        "1. The **full** CIFAR10 training set (60 k images)\n",
        "2. A **randomly‑sampled** subset containing **10 images per class** (100 images total)\n",
        "3. A **distilled** synthetic set generated with Gradient Matching\n",
        "\n",
        "We evaluate each model on the **canonical CIFAR10 test split (10 k images)** and summarise the results.\n"
      ]
    },
    {
      "cell_type": "code",
      "execution_count": 7,
      "id": "d0551cf9",
      "metadata": {
        "colab": {
          "base_uri": "https://localhost:8080/"
        },
        "id": "d0551cf9",
        "outputId": "72580a59-91e0-43a9-befc-e658caf68f00"
      },
      "outputs": [
        {
          "output_type": "stream",
          "name": "stdout",
          "text": [
            "Using device: cuda\n"
          ]
        }
      ],
      "source": [
        "import os, random, math, time, copy\n",
        "import numpy as np\n",
        "from pathlib import Path\n",
        "import torch\n",
        "import torch.nn as nn\n",
        "import torch.optim as optim\n",
        "from torch.utils.data import DataLoader, Subset, TensorDataset\n",
        "from torchvision import datasets, transforms\n",
        "import matplotlib.pyplot as plt\n",
        "from distiller.models.ConvNet import ConvNet\n",
        "\n",
        "# Reproducibility\n",
        "SEED = 42\n",
        "random.seed(SEED)\n",
        "np.random.seed(SEED)\n",
        "torch.manual_seed(SEED)\n",
        "torch.cuda.manual_seed_all(SEED)\n",
        "\n",
        "# Device\n",
        "device = torch.device('cuda' if torch.cuda.is_available() else 'cpu')\n",
        "print('Using device:', device)\n"
      ]
    },
    {
      "cell_type": "code",
      "execution_count": 8,
      "id": "ac9e4725",
      "metadata": {
        "id": "ac9e4725"
      },
      "outputs": [],
      "source": [
        "def train(model, loader, criterion, optimizer, epochs=5, log_interval=100):\n",
        "    model.train()\n",
        "    for epoch in range(1, epochs + 1):\n",
        "        running_loss = 0.0\n",
        "        for batch_idx, (inputs, targets) in enumerate(loader, 1):\n",
        "            inputs, targets = inputs.to(device), targets.to(device)\n",
        "            optimizer.zero_grad()\n",
        "            outputs = model(inputs)\n",
        "            loss = criterion(outputs, targets)\n",
        "            loss.backward()\n",
        "            optimizer.step()\n",
        "            running_loss += loss.item()\n",
        "            if batch_idx % log_interval == 0 or batch_idx == len(loader):\n",
        "                print(f'Epoch {epoch}/{epochs} | Batch {batch_idx}/{len(loader)} | Loss: {running_loss / batch_idx:.4f}', end='\\r')\n",
        "        print(f'Epoch {epoch} finished. Avg Loss: {running_loss / len(loader):.4f}')\n",
        "\n",
        "def evaluate(model, loader):\n",
        "    model.eval()\n",
        "    correct = 0\n",
        "    total = 0\n",
        "    with torch.no_grad():\n",
        "        for inputs, targets in loader:\n",
        "            inputs, targets = inputs.to(device), targets.to(device)\n",
        "            outputs = model(inputs)\n",
        "            preds = outputs.argmax(dim=1)\n",
        "            correct += (preds == targets).sum().item()\n",
        "            total += targets.size(0)\n",
        "    return 100.0 * correct / total\n"
      ]
    },
    {
      "cell_type": "code",
      "execution_count": 9,
      "id": "540b8b09",
      "metadata": {
        "colab": {
          "base_uri": "https://localhost:8080/"
        },
        "id": "540b8b09",
        "outputId": "abc34f48-8873-43d3-8591-96959cd34bfb"
      },
      "outputs": [
        {
          "output_type": "stream",
          "name": "stdout",
          "text": [
            "Full training set size: 50000\n"
          ]
        }
      ],
      "source": [
        "\n",
        "transform = transforms.Compose([\n",
        "    transforms.ToTensor(),\n",
        "    transforms.Normalize((0.1307,), (0.3081,)),\n",
        "])\n",
        "\n",
        "root = Path('distiller/data')\n",
        "full_train = datasets.CIFAR10(root, train=True, download=True, transform=transform)\n",
        "test_set = datasets.CIFAR10(root, train=False, download=True, transform=transform)\n",
        "\n",
        "test_loader = DataLoader(test_set, batch_size=512, shuffle=False, num_workers=2, pin_memory=True)\n",
        "\n",
        "print(f'Full training set size: {len(full_train)}')"
      ]
    },
    {
      "cell_type": "markdown",
      "id": "b5bd96f0",
      "metadata": {
        "id": "b5bd96f0"
      },
      "source": [
        "## Training on the **full** MNIST training set"
      ]
    },
    {
      "cell_type": "code",
      "execution_count": 10,
      "id": "5b940a64",
      "metadata": {
        "colab": {
          "base_uri": "https://localhost:8080/"
        },
        "id": "5b940a64",
        "outputId": "c34a2121-eed2-4f22-d875-a3e9e39239ed"
      },
      "outputs": [
        {
          "output_type": "stream",
          "name": "stdout",
          "text": [
            "Epoch 1 finished. Avg Loss: 1.2294\n",
            "Epoch 2 finished. Avg Loss: 0.8354\n",
            "Epoch 3 finished. Avg Loss: 0.7008\n",
            "Epoch 4 finished. Avg Loss: 0.6055\n",
            "Epoch 5 finished. Avg Loss: 0.5356\n",
            "\n",
            "Test accuracy (full data): 77.17%\n"
          ]
        }
      ],
      "source": [
        "BATCH_SIZE_FULL = 128\n",
        "EPOCHS_FULL = 5\n",
        "\n",
        "full_loader = DataLoader(full_train, batch_size=BATCH_SIZE_FULL, shuffle=True, num_workers=2, pin_memory=True)\n",
        "\n",
        "model_full = ConvNet().to(device)\n",
        "optimizer = optim.Adam(model_full.parameters(), lr=1e-3)\n",
        "criterion = nn.CrossEntropyLoss()\n",
        "\n",
        "train(model_full, full_loader, criterion, optimizer, epochs=EPOCHS_FULL, log_interval=200)\n",
        "acc_full = evaluate(model_full, test_loader)\n",
        "print(f'\\nTest accuracy (full data): {acc_full:.2f}%')"
      ]
    },
    {
      "cell_type": "markdown",
      "id": "18aa9279",
      "metadata": {
        "id": "18aa9279"
      },
      "source": [
        "## Training on a **random** subset (10 images × 10 classes = 100 images)"
      ]
    },
    {
      "cell_type": "code",
      "execution_count": 11,
      "id": "6b818a45",
      "metadata": {
        "colab": {
          "base_uri": "https://localhost:8080/"
        },
        "id": "6b818a45",
        "outputId": "5360796d-530b-4040-ec24-ab0aa9a33218"
      },
      "outputs": [
        {
          "output_type": "stream",
          "name": "stdout",
          "text": [
            "Subset size: 100\n",
            "Epoch 1 finished. Avg Loss: 2.5445\n",
            "Epoch 2 finished. Avg Loss: 1.9066\n",
            "Epoch 3 finished. Avg Loss: 1.8771\n",
            "Epoch 4 finished. Avg Loss: 1.4165\n",
            "Epoch 5 finished. Avg Loss: 1.1948\n",
            "Epoch 6 finished. Avg Loss: 1.0566\n",
            "Epoch 7 finished. Avg Loss: 0.9145\n",
            "Epoch 8 finished. Avg Loss: 0.7722\n",
            "Epoch 9 finished. Avg Loss: 0.5814\n",
            "Epoch 10 finished. Avg Loss: 0.6673\n",
            "Epoch 11 finished. Avg Loss: 0.3963\n",
            "Epoch 12 finished. Avg Loss: 0.3634\n",
            "Epoch 13 finished. Avg Loss: 0.2816\n",
            "Epoch 14 finished. Avg Loss: 0.2552\n",
            "Epoch 15 finished. Avg Loss: 0.2134\n",
            "Epoch 16 finished. Avg Loss: 0.1645\n",
            "Epoch 17 finished. Avg Loss: 0.1347\n",
            "Epoch 18 finished. Avg Loss: 0.1149\n",
            "Epoch 19 finished. Avg Loss: 0.0931\n",
            "Epoch 20 finished. Avg Loss: 0.0759\n",
            "Epoch 21 finished. Avg Loss: 0.0656\n",
            "Epoch 22 finished. Avg Loss: 0.0543\n",
            "Epoch 23 finished. Avg Loss: 0.0452\n",
            "Epoch 24 finished. Avg Loss: 0.0397\n",
            "Epoch 25 finished. Avg Loss: 0.0323\n",
            "Epoch 26 finished. Avg Loss: 0.0345\n",
            "Epoch 27 finished. Avg Loss: 0.0255\n",
            "Epoch 28 finished. Avg Loss: 0.0260\n",
            "Epoch 29 finished. Avg Loss: 0.0219\n",
            "Epoch 30 finished. Avg Loss: 0.0206\n",
            "Epoch 31 finished. Avg Loss: 0.0178\n",
            "Epoch 32 finished. Avg Loss: 0.0186\n",
            "Epoch 33 finished. Avg Loss: 0.0149\n",
            "Epoch 34 finished. Avg Loss: 0.0139\n",
            "Epoch 35 finished. Avg Loss: 0.0130\n",
            "Epoch 36 finished. Avg Loss: 0.0124\n",
            "Epoch 37 finished. Avg Loss: 0.0119\n",
            "Epoch 38 finished. Avg Loss: 0.0112\n",
            "Epoch 39 finished. Avg Loss: 0.0110\n",
            "Epoch 40 finished. Avg Loss: 0.0102\n",
            "Epoch 41 finished. Avg Loss: 0.0103\n",
            "Epoch 42 finished. Avg Loss: 0.0097\n",
            "Epoch 43 finished. Avg Loss: 0.0087\n",
            "Epoch 44 finished. Avg Loss: 0.0087\n",
            "Epoch 45 finished. Avg Loss: 0.0081\n",
            "Epoch 46 finished. Avg Loss: 0.0076\n",
            "Epoch 47 finished. Avg Loss: 0.0075\n",
            "Epoch 48 finished. Avg Loss: 0.0070\n",
            "Epoch 49 finished. Avg Loss: 0.0067\n",
            "Epoch 50 finished. Avg Loss: 0.0068\n",
            "\n",
            "Test accuracy (random 100 examples): 26.69%\n"
          ]
        }
      ],
      "source": [
        "def stratified_random_subset(dataset, per_class=10):\n",
        "    targets = np.array(dataset.targets)\n",
        "    indices = []\n",
        "    for cls in range(10):\n",
        "        cls_idx = np.where(targets == cls)[0]\n",
        "        indices.extend(np.random.choice(cls_idx, per_class, replace=False))\n",
        "    return indices\n",
        "\n",
        "subset_indices = stratified_random_subset(full_train, per_class=10)\n",
        "small_train = Subset(full_train, subset_indices)\n",
        "print('Subset size:', len(small_train))\n",
        "\n",
        "BATCH_SIZE_SMALL = 32\n",
        "EPOCHS_SMALL = 50  # More epochs because dataset is tiny\n",
        "\n",
        "small_loader = DataLoader(small_train, batch_size=BATCH_SIZE_SMALL, shuffle=True, num_workers=2, pin_memory=True)\n",
        "\n",
        "model_small = ConvNet().to(device)\n",
        "optimizer_small = optim.Adam(model_small.parameters(), lr=1e-3)\n",
        "criterion_small = nn.CrossEntropyLoss()\n",
        "\n",
        "train(model_small, small_loader, criterion_small, optimizer_small, epochs=EPOCHS_SMALL, log_interval=1)\n",
        "acc_small = evaluate(model_small, test_loader)\n",
        "print(f'\\nTest accuracy (random 100 examples): {acc_small:.2f}%')"
      ]
    },
    {
      "cell_type": "markdown",
      "id": "968de68d",
      "metadata": {
        "id": "968de68d"
      },
      "source": [
        "## Training on the **distilled synthetic** set"
      ]
    },
    {
      "cell_type": "code",
      "execution_count": 12,
      "id": "b0da6bfb",
      "metadata": {
        "colab": {
          "base_uri": "https://localhost:8080/"
        },
        "id": "b0da6bfb",
        "outputId": "5d02c9e1-b1c4-4112-b43f-2ed36f052542"
      },
      "outputs": [
        {
          "output_type": "stream",
          "name": "stdout",
          "text": [
            "Synthetic set shape: torch.Size([100, 3, 32, 32])\n",
            "Epoch 1/300 | Batch 1/4 | Loss: 2.2886\rEpoch 1/300 | Batch 2/4 | Loss: 2.3344\rEpoch 1/300 | Batch 3/4 | Loss: 2.3504\rEpoch 1/300 | Batch 4/4 | Loss: 2.4079\rEpoch 1 finished. Avg Loss: 2.4079\n",
            "Epoch 2/300 | Batch 1/4 | Loss: 1.7584\rEpoch 2/300 | Batch 2/4 | Loss: 1.7250\rEpoch 2/300 | Batch 3/4 | Loss: 1.8483\rEpoch 2/300 | Batch 4/4 | Loss: 1.7916\rEpoch 2 finished. Avg Loss: 1.7916\n",
            "Epoch 3/300 | Batch 1/4 | Loss: 1.6259\rEpoch 3/300 | Batch 2/4 | Loss: 1.5506\rEpoch 3/300 | Batch 3/4 | Loss: 1.5102\rEpoch 3/300 | Batch 4/4 | Loss: 1.6061\rEpoch 3 finished. Avg Loss: 1.6061\n",
            "Epoch 4/300 | Batch 1/4 | Loss: 1.2361\rEpoch 4/300 | Batch 2/4 | Loss: 1.2162\rEpoch 4/300 | Batch 3/4 | Loss: 1.2490\rEpoch 4/300 | Batch 4/4 | Loss: 1.2879\rEpoch 4 finished. Avg Loss: 1.2879\n",
            "Epoch 5/300 | Batch 1/4 | Loss: 1.0020\rEpoch 5/300 | Batch 2/4 | Loss: 0.9726\rEpoch 5/300 | Batch 3/4 | Loss: 1.0162\rEpoch 5/300 | Batch 4/4 | Loss: 0.9289\rEpoch 5 finished. Avg Loss: 0.9289\n",
            "Epoch 6/300 | Batch 1/4 | Loss: 0.7886\rEpoch 6/300 | Batch 2/4 | Loss: 0.8159\rEpoch 6/300 | Batch 3/4 | Loss: 0.8001\rEpoch 6/300 | Batch 4/4 | Loss: 0.7724\rEpoch 6 finished. Avg Loss: 0.7724\n",
            "Epoch 7/300 | Batch 1/4 | Loss: 0.5922\rEpoch 7/300 | Batch 2/4 | Loss: 0.6975\rEpoch 7/300 | Batch 3/4 | Loss: 0.6455\rEpoch 7/300 | Batch 4/4 | Loss: 0.6281\rEpoch 7 finished. Avg Loss: 0.6281\n",
            "Epoch 8/300 | Batch 1/4 | Loss: 0.5679\rEpoch 8/300 | Batch 2/4 | Loss: 0.5300\rEpoch 8/300 | Batch 3/4 | Loss: 0.5205\rEpoch 8/300 | Batch 4/4 | Loss: 0.5099\rEpoch 8 finished. Avg Loss: 0.5099\n",
            "Epoch 9/300 | Batch 1/4 | Loss: 0.4039\rEpoch 9/300 | Batch 2/4 | Loss: 0.4239\rEpoch 9/300 | Batch 3/4 | Loss: 0.4188\rEpoch 9/300 | Batch 4/4 | Loss: 0.4686\rEpoch 9 finished. Avg Loss: 0.4686\n",
            "Epoch 10/300 | Batch 1/4 | Loss: 0.4959\rEpoch 10/300 | Batch 2/4 | Loss: 0.4063\rEpoch 10/300 | Batch 3/4 | Loss: 0.3848\rEpoch 10/300 | Batch 4/4 | Loss: 0.3258\rEpoch 10 finished. Avg Loss: 0.3258\n",
            "Epoch 11/300 | Batch 1/4 | Loss: 0.2893\rEpoch 11/300 | Batch 2/4 | Loss: 0.2986\rEpoch 11/300 | Batch 3/4 | Loss: 0.3179\rEpoch 11/300 | Batch 4/4 | Loss: 0.2721\rEpoch 11 finished. Avg Loss: 0.2721\n",
            "Epoch 12/300 | Batch 1/4 | Loss: 0.2630\rEpoch 12/300 | Batch 2/4 | Loss: 0.2750\rEpoch 12/300 | Batch 3/4 | Loss: 0.2326\rEpoch 12/300 | Batch 4/4 | Loss: 0.2141\rEpoch 12 finished. Avg Loss: 0.2141\n",
            "Epoch 13/300 | Batch 1/4 | Loss: 0.2559\rEpoch 13/300 | Batch 2/4 | Loss: 0.2092\rEpoch 13/300 | Batch 3/4 | Loss: 0.1887\rEpoch 13/300 | Batch 4/4 | Loss: 0.1604\rEpoch 13 finished. Avg Loss: 0.1604\n",
            "Epoch 14 finished. Avg Loss: 0.1278\n",
            "Epoch 15 finished. Avg Loss: 0.1019\n",
            "Epoch 16 finished. Avg Loss: 0.0743\n",
            "Epoch 17 finished. Avg Loss: 0.0738\n",
            "Epoch 18 finished. Avg Loss: 0.0569\n",
            "Epoch 19 finished. Avg Loss: 0.0425\n",
            "Epoch 20 finished. Avg Loss: 0.0409\n",
            "Epoch 21 finished. Avg Loss: 0.0443\n",
            "Epoch 22 finished. Avg Loss: 0.0345\n",
            "Epoch 23 finished. Avg Loss: 0.0323\n",
            "Epoch 24 finished. Avg Loss: 0.0262\n",
            "Epoch 25 finished. Avg Loss: 0.0220\n",
            "Epoch 26 finished. Avg Loss: 0.0282\n",
            "Epoch 27 finished. Avg Loss: 0.0202\n",
            "Epoch 28 finished. Avg Loss: 0.0190\n",
            "Epoch 29 finished. Avg Loss: 0.0174\n",
            "Epoch 30 finished. Avg Loss: 0.0153\n",
            "Epoch 31 finished. Avg Loss: 0.0115\n",
            "Epoch 32 finished. Avg Loss: 0.0114\n",
            "Epoch 33 finished. Avg Loss: 0.0108\n",
            "Epoch 34 finished. Avg Loss: 0.0117\n",
            "Epoch 35 finished. Avg Loss: 0.0097\n",
            "Epoch 36 finished. Avg Loss: 0.0091\n",
            "Epoch 37 finished. Avg Loss: 0.0080\n",
            "Epoch 38 finished. Avg Loss: 0.0080\n",
            "Epoch 39 finished. Avg Loss: 0.0078\n",
            "Epoch 40 finished. Avg Loss: 0.0074\n",
            "Epoch 41 finished. Avg Loss: 0.0075\n",
            "Epoch 42 finished. Avg Loss: 0.0064\n",
            "Epoch 43 finished. Avg Loss: 0.0063\n",
            "Epoch 44 finished. Avg Loss: 0.0059\n",
            "Epoch 45 finished. Avg Loss: 0.0061\n",
            "Epoch 46 finished. Avg Loss: 0.0051\n",
            "Epoch 47 finished. Avg Loss: 0.0055\n",
            "Epoch 48 finished. Avg Loss: 0.0051\n",
            "Epoch 49 finished. Avg Loss: 0.0051\n",
            "Epoch 50 finished. Avg Loss: 0.0047\n",
            "Epoch 51 finished. Avg Loss: 0.0049\n",
            "Epoch 52 finished. Avg Loss: 0.0045\n",
            "Epoch 53 finished. Avg Loss: 0.0046\n",
            "Epoch 54 finished. Avg Loss: 0.0044\n",
            "Epoch 55 finished. Avg Loss: 0.0043\n",
            "Epoch 56 finished. Avg Loss: 0.0038\n",
            "Epoch 57 finished. Avg Loss: 0.0037\n",
            "Epoch 58 finished. Avg Loss: 0.0038\n",
            "Epoch 59 finished. Avg Loss: 0.0038\n",
            "Epoch 60 finished. Avg Loss: 0.0032\n",
            "Epoch 61 finished. Avg Loss: 0.0031\n",
            "Epoch 62 finished. Avg Loss: 0.0030\n",
            "Epoch 63 finished. Avg Loss: 0.0028\n",
            "Epoch 64 finished. Avg Loss: 0.0032\n",
            "Epoch 65 finished. Avg Loss: 0.0031\n",
            "Epoch 66 finished. Avg Loss: 0.0030\n",
            "Epoch 67 finished. Avg Loss: 0.0027\n",
            "Epoch 68 finished. Avg Loss: 0.0026\n",
            "Epoch 69 finished. Avg Loss: 0.0026\n",
            "Epoch 70 finished. Avg Loss: 0.0026\n",
            "Epoch 71 finished. Avg Loss: 0.0024\n",
            "Epoch 72 finished. Avg Loss: 0.0024\n",
            "Epoch 73 finished. Avg Loss: 0.0024\n",
            "Epoch 74 finished. Avg Loss: 0.0025\n",
            "Epoch 75 finished. Avg Loss: 0.0023\n",
            "Epoch 76 finished. Avg Loss: 0.0023\n",
            "Epoch 77 finished. Avg Loss: 0.0021\n",
            "Epoch 78 finished. Avg Loss: 0.0021\n",
            "Epoch 79 finished. Avg Loss: 0.0021\n",
            "Epoch 80 finished. Avg Loss: 0.0021\n",
            "Epoch 81 finished. Avg Loss: 0.0021\n",
            "Epoch 82 finished. Avg Loss: 0.0020\n",
            "Epoch 83 finished. Avg Loss: 0.0019\n",
            "Epoch 84 finished. Avg Loss: 0.0018\n",
            "Epoch 85 finished. Avg Loss: 0.0017\n",
            "Epoch 86 finished. Avg Loss: 0.0017\n",
            "Epoch 87 finished. Avg Loss: 0.0017\n",
            "Epoch 88 finished. Avg Loss: 0.0017\n",
            "Epoch 89 finished. Avg Loss: 0.0018\n",
            "Epoch 90 finished. Avg Loss: 0.0017\n",
            "Epoch 91 finished. Avg Loss: 0.0015\n",
            "Epoch 92 finished. Avg Loss: 0.0015\n",
            "Epoch 93 finished. Avg Loss: 0.0016\n",
            "Epoch 94 finished. Avg Loss: 0.0016\n",
            "Epoch 95 finished. Avg Loss: 0.0016\n",
            "Epoch 96 finished. Avg Loss: 0.0014\n",
            "Epoch 97 finished. Avg Loss: 0.0015\n",
            "Epoch 98 finished. Avg Loss: 0.0014\n",
            "Epoch 99 finished. Avg Loss: 0.0014\n",
            "Epoch 100 finished. Avg Loss: 0.0014\n",
            "Epoch 101 finished. Avg Loss: 0.0015\n",
            "Epoch 102 finished. Avg Loss: 0.0014\n",
            "Epoch 103 finished. Avg Loss: 0.0013\n",
            "Epoch 104 finished. Avg Loss: 0.0013\n",
            "Epoch 105 finished. Avg Loss: 0.0012\n",
            "Epoch 106 finished. Avg Loss: 0.0012\n",
            "Epoch 107 finished. Avg Loss: 0.0014\n",
            "Epoch 108 finished. Avg Loss: 0.0011\n",
            "Epoch 109 finished. Avg Loss: 0.0011\n",
            "Epoch 110 finished. Avg Loss: 0.0012\n",
            "Epoch 111 finished. Avg Loss: 0.0011\n",
            "Epoch 112 finished. Avg Loss: 0.0011\n",
            "Epoch 113 finished. Avg Loss: 0.0011\n",
            "Epoch 114 finished. Avg Loss: 0.0010\n",
            "Epoch 115 finished. Avg Loss: 0.0010\n",
            "Epoch 116 finished. Avg Loss: 0.0010\n",
            "Epoch 117 finished. Avg Loss: 0.0010\n",
            "Epoch 118 finished. Avg Loss: 0.0010\n",
            "Epoch 119 finished. Avg Loss: 0.0011\n",
            "Epoch 120 finished. Avg Loss: 0.0010\n",
            "Epoch 121 finished. Avg Loss: 0.0009\n",
            "Epoch 122 finished. Avg Loss: 0.0009\n",
            "Epoch 123 finished. Avg Loss: 0.0009\n",
            "Epoch 124 finished. Avg Loss: 0.0009\n",
            "Epoch 125 finished. Avg Loss: 0.0009\n",
            "Epoch 126 finished. Avg Loss: 0.0009\n",
            "Epoch 127 finished. Avg Loss: 0.0009\n",
            "Epoch 128 finished. Avg Loss: 0.0009\n",
            "Epoch 129 finished. Avg Loss: 0.0009\n",
            "Epoch 130 finished. Avg Loss: 0.0009\n",
            "Epoch 131 finished. Avg Loss: 0.0008\n",
            "Epoch 132 finished. Avg Loss: 0.0008\n",
            "Epoch 133 finished. Avg Loss: 0.0008\n",
            "Epoch 134 finished. Avg Loss: 0.0008\n",
            "Epoch 135 finished. Avg Loss: 0.0008\n",
            "Epoch 136 finished. Avg Loss: 0.0007\n",
            "Epoch 137 finished. Avg Loss: 0.0008\n",
            "Epoch 138 finished. Avg Loss: 0.0007\n",
            "Epoch 139 finished. Avg Loss: 0.0008\n",
            "Epoch 140 finished. Avg Loss: 0.0007\n",
            "Epoch 141 finished. Avg Loss: 0.0007\n",
            "Epoch 142 finished. Avg Loss: 0.0007\n",
            "Epoch 143 finished. Avg Loss: 0.0007\n",
            "Epoch 144 finished. Avg Loss: 0.0008\n",
            "Epoch 145 finished. Avg Loss: 0.0007\n",
            "Epoch 146 finished. Avg Loss: 0.0007\n",
            "Epoch 147 finished. Avg Loss: 0.0007\n",
            "Epoch 148 finished. Avg Loss: 0.0007\n",
            "Epoch 149 finished. Avg Loss: 0.0007\n",
            "Epoch 150 finished. Avg Loss: 0.0006\n",
            "Epoch 151 finished. Avg Loss: 0.0006\n",
            "Epoch 152 finished. Avg Loss: 0.0007\n",
            "Epoch 153 finished. Avg Loss: 0.0006\n",
            "Epoch 154 finished. Avg Loss: 0.0006\n",
            "Epoch 155 finished. Avg Loss: 0.0006\n",
            "Epoch 156 finished. Avg Loss: 0.0005\n",
            "Epoch 157 finished. Avg Loss: 0.0006\n",
            "Epoch 158 finished. Avg Loss: 0.0006\n",
            "Epoch 159 finished. Avg Loss: 0.0006\n",
            "Epoch 160 finished. Avg Loss: 0.0006\n",
            "Epoch 161 finished. Avg Loss: 0.0006\n",
            "Epoch 162 finished. Avg Loss: 0.0006\n",
            "Epoch 163 finished. Avg Loss: 0.0006\n",
            "Epoch 164 finished. Avg Loss: 0.0005\n",
            "Epoch 165 finished. Avg Loss: 0.0006\n",
            "Epoch 166 finished. Avg Loss: 0.0005\n",
            "Epoch 167 finished. Avg Loss: 0.0005\n",
            "Epoch 168 finished. Avg Loss: 0.0006\n",
            "Epoch 169 finished. Avg Loss: 0.0005\n",
            "Epoch 170 finished. Avg Loss: 0.0005\n",
            "Epoch 171 finished. Avg Loss: 0.0005\n",
            "Epoch 172 finished. Avg Loss: 0.0005\n",
            "Epoch 173 finished. Avg Loss: 0.0005\n",
            "Epoch 174 finished. Avg Loss: 0.0005\n",
            "Epoch 175 finished. Avg Loss: 0.0005\n",
            "Epoch 176 finished. Avg Loss: 0.0004\n",
            "Epoch 177 finished. Avg Loss: 0.0005\n",
            "Epoch 178 finished. Avg Loss: 0.0005\n",
            "Epoch 179 finished. Avg Loss: 0.0005\n",
            "Epoch 180 finished. Avg Loss: 0.0005\n",
            "Epoch 181 finished. Avg Loss: 0.0005\n",
            "Epoch 182 finished. Avg Loss: 0.0005\n",
            "Epoch 183 finished. Avg Loss: 0.0004\n",
            "Epoch 184 finished. Avg Loss: 0.0005\n",
            "Epoch 185 finished. Avg Loss: 0.0004\n",
            "Epoch 186 finished. Avg Loss: 0.0004\n",
            "Epoch 187 finished. Avg Loss: 0.0005\n",
            "Epoch 188 finished. Avg Loss: 0.0004\n",
            "Epoch 189 finished. Avg Loss: 0.0004\n",
            "Epoch 190 finished. Avg Loss: 0.0004\n",
            "Epoch 191 finished. Avg Loss: 0.0004\n",
            "Epoch 192 finished. Avg Loss: 0.0004\n",
            "Epoch 193 finished. Avg Loss: 0.0004\n",
            "Epoch 194 finished. Avg Loss: 0.0004\n",
            "Epoch 195 finished. Avg Loss: 0.0004\n",
            "Epoch 196 finished. Avg Loss: 0.0004\n",
            "Epoch 197 finished. Avg Loss: 0.0004\n",
            "Epoch 198 finished. Avg Loss: 0.0004\n",
            "Epoch 199 finished. Avg Loss: 0.0004\n",
            "Epoch 200 finished. Avg Loss: 0.0004\n",
            "Epoch 201 finished. Avg Loss: 0.0004\n",
            "Epoch 202 finished. Avg Loss: 0.0004\n",
            "Epoch 203 finished. Avg Loss: 0.0004\n",
            "Epoch 204 finished. Avg Loss: 0.0004\n",
            "Epoch 205 finished. Avg Loss: 0.0004\n",
            "Epoch 206 finished. Avg Loss: 0.0003\n",
            "Epoch 207 finished. Avg Loss: 0.0004\n",
            "Epoch 208 finished. Avg Loss: 0.0003\n",
            "Epoch 209 finished. Avg Loss: 0.0004\n",
            "Epoch 210 finished. Avg Loss: 0.0003\n",
            "Epoch 211 finished. Avg Loss: 0.0003\n",
            "Epoch 212 finished. Avg Loss: 0.0003\n",
            "Epoch 213 finished. Avg Loss: 0.0003\n",
            "Epoch 214 finished. Avg Loss: 0.0003\n",
            "Epoch 215 finished. Avg Loss: 0.0004\n",
            "Epoch 216 finished. Avg Loss: 0.0003\n",
            "Epoch 217 finished. Avg Loss: 0.0003\n",
            "Epoch 218 finished. Avg Loss: 0.0003\n",
            "Epoch 219 finished. Avg Loss: 0.0003\n",
            "Epoch 220 finished. Avg Loss: 0.0003\n",
            "Epoch 221 finished. Avg Loss: 0.0003\n",
            "Epoch 222 finished. Avg Loss: 0.0003\n",
            "Epoch 223 finished. Avg Loss: 0.0003\n",
            "Epoch 224 finished. Avg Loss: 0.0003\n",
            "Epoch 225 finished. Avg Loss: 0.0003\n",
            "Epoch 226 finished. Avg Loss: 0.0003\n",
            "Epoch 227 finished. Avg Loss: 0.0003\n",
            "Epoch 228 finished. Avg Loss: 0.0003\n",
            "Epoch 229 finished. Avg Loss: 0.0003\n",
            "Epoch 230 finished. Avg Loss: 0.0003\n",
            "Epoch 231 finished. Avg Loss: 0.0003\n",
            "Epoch 232 finished. Avg Loss: 0.0003\n",
            "Epoch 233 finished. Avg Loss: 0.0003\n",
            "Epoch 234 finished. Avg Loss: 0.0003\n",
            "Epoch 235 finished. Avg Loss: 0.0003\n",
            "Epoch 236 finished. Avg Loss: 0.0003\n",
            "Epoch 237 finished. Avg Loss: 0.0003\n",
            "Epoch 238 finished. Avg Loss: 0.0003\n",
            "Epoch 239 finished. Avg Loss: 0.0003\n",
            "Epoch 240 finished. Avg Loss: 0.0003\n",
            "Epoch 241 finished. Avg Loss: 0.0003\n",
            "Epoch 242 finished. Avg Loss: 0.0003\n",
            "Epoch 243 finished. Avg Loss: 0.0003\n",
            "Epoch 244 finished. Avg Loss: 0.0003\n",
            "Epoch 245 finished. Avg Loss: 0.0003\n",
            "Epoch 246 finished. Avg Loss: 0.0003\n",
            "Epoch 247 finished. Avg Loss: 0.0003\n",
            "Epoch 248 finished. Avg Loss: 0.0003\n",
            "Epoch 249 finished. Avg Loss: 0.0003\n",
            "Epoch 250 finished. Avg Loss: 0.0003\n",
            "Epoch 251 finished. Avg Loss: 0.0003\n",
            "Epoch 252 finished. Avg Loss: 0.0002\n",
            "Epoch 253 finished. Avg Loss: 0.0002\n",
            "Epoch 254 finished. Avg Loss: 0.0002\n",
            "Epoch 255 finished. Avg Loss: 0.0002\n",
            "Epoch 256 finished. Avg Loss: 0.0002\n",
            "Epoch 257 finished. Avg Loss: 0.0003\n",
            "Epoch 258 finished. Avg Loss: 0.0002\n",
            "Epoch 259 finished. Avg Loss: 0.0002\n",
            "Epoch 260 finished. Avg Loss: 0.0002\n",
            "Epoch 261 finished. Avg Loss: 0.0002\n",
            "Epoch 262 finished. Avg Loss: 0.0002\n",
            "Epoch 263 finished. Avg Loss: 0.0002\n",
            "Epoch 264 finished. Avg Loss: 0.0002\n",
            "Epoch 265 finished. Avg Loss: 0.0002\n",
            "Epoch 266 finished. Avg Loss: 0.0002\n",
            "Epoch 267 finished. Avg Loss: 0.0002\n",
            "Epoch 268 finished. Avg Loss: 0.0002\n",
            "Epoch 269 finished. Avg Loss: 0.0002\n",
            "Epoch 270 finished. Avg Loss: 0.0002\n",
            "Epoch 271 finished. Avg Loss: 0.0002\n",
            "Epoch 272 finished. Avg Loss: 0.0002\n",
            "Epoch 273 finished. Avg Loss: 0.0002\n",
            "Epoch 274 finished. Avg Loss: 0.0002\n",
            "Epoch 275 finished. Avg Loss: 0.0002\n",
            "Epoch 276 finished. Avg Loss: 0.0002\n",
            "Epoch 277 finished. Avg Loss: 0.0002\n",
            "Epoch 278 finished. Avg Loss: 0.0002\n",
            "Epoch 279 finished. Avg Loss: 0.0002\n",
            "Epoch 280 finished. Avg Loss: 0.0002\n",
            "Epoch 281 finished. Avg Loss: 0.0002\n",
            "Epoch 282 finished. Avg Loss: 0.0002\n",
            "Epoch 283 finished. Avg Loss: 0.0002\n",
            "Epoch 284 finished. Avg Loss: 0.0002\n",
            "Epoch 285 finished. Avg Loss: 0.0002\n",
            "Epoch 286 finished. Avg Loss: 0.0002\n",
            "Epoch 287 finished. Avg Loss: 0.0002\n",
            "Epoch 288 finished. Avg Loss: 0.0002\n",
            "Epoch 289 finished. Avg Loss: 0.0002\n",
            "Epoch 290 finished. Avg Loss: 0.0002\n",
            "Epoch 291 finished. Avg Loss: 0.0002\n",
            "Epoch 292 finished. Avg Loss: 0.0002\n",
            "Epoch 293 finished. Avg Loss: 0.0002\n",
            "Epoch 294 finished. Avg Loss: 0.0002\n",
            "Epoch 295 finished. Avg Loss: 0.0002\n",
            "Epoch 296 finished. Avg Loss: 0.0002\n",
            "Epoch 297 finished. Avg Loss: 0.0002\n",
            "Epoch 298 finished. Avg Loss: 0.0002\n",
            "Epoch 299 finished. Avg Loss: 0.0002\n",
            "Epoch 300 finished. Avg Loss: 0.0002\n",
            "\n",
            "Test accuracy (distilled set): 33.91%\n"
          ]
        }
      ],
      "source": [
        "SYNSET_PATH = 'distiller/syndata/CIFAR10_ConvNet_ipc-10_exp-0.pt'\n",
        "\n",
        "assert Path(SYNSET_PATH).exists(), (\n",
        "    f'Distilled file not found at {SYNSET_PATH}. ' \\\n",
        "    'Upload it to the Colab session or place it in the working directory.'\n",
        ")\n",
        "\n",
        "checkpoint = torch.load(SYNSET_PATH, map_location='cpu')\n",
        "\n",
        "# Expected keys: images (n, 1, 28, 28) tensor, labels (n) tensor\n",
        "synthetic_images = checkpoint.get('syn_imgs') if isinstance(checkpoint, dict) else checkpoint[0]\n",
        "synthetic_labels = checkpoint.get('syn_labels') if isinstance(checkpoint, dict) else checkpoint[1]\n",
        "\n",
        "print('Synthetic set shape:', synthetic_images.shape)\n",
        "\n",
        "distill_ds = TensorDataset(synthetic_images, synthetic_labels)\n",
        "BATCH_SIZE_DISTILL = 32\n",
        "EPOCHS_DISTILL = 300\n",
        "\n",
        "distill_loader = DataLoader(distill_ds, batch_size=BATCH_SIZE_DISTILL, shuffle=True)\n",
        "\n",
        "model_distill = ConvNet().to(device)\n",
        "optimizer_distill = optim.Adam(model_distill.parameters(), lr=1e-3)\n",
        "criterion_distill = nn.CrossEntropyLoss()\n",
        "\n",
        "train(model_distill, distill_loader, criterion_distill, optimizer_distill, epochs=EPOCHS_DISTILL, log_interval=1)\n",
        "acc_distill = evaluate(model_distill, test_loader)\n",
        "print(f'\\nTest accuracy (distilled set): {acc_distill:.2f}%')"
      ]
    },
    {
      "cell_type": "markdown",
      "id": "3f7a3645",
      "metadata": {
        "id": "3f7a3645"
      },
      "source": [
        "## Result Summary"
      ]
    },
    {
      "cell_type": "code",
      "execution_count": 13,
      "id": "fb2ffd46",
      "metadata": {
        "colab": {
          "base_uri": "https://localhost:8080/",
          "height": 443
        },
        "id": "fb2ffd46",
        "outputId": "0064d9ce-9bf8-4255-9f1f-18f194a5cee6"
      },
      "outputs": [
        {
          "output_type": "stream",
          "name": "stdout",
          "text": [
            "Full Data   : 77.17%\n",
            "Random 100  : 26.69%\n",
            "Distilled Set: 33.91%\n"
          ]
        },
        {
          "output_type": "display_data",
          "data": {
            "text/plain": [
              "<Figure size 600x400 with 1 Axes>"
            ],
            "image/png": "[encoded data removed]"
          },
          "metadata": {}
        }
      ],
      "source": [
        "results = {\n",
        "    'Full Data': acc_full,\n",
        "    'Random 100': acc_small,\n",
        "    'Distilled Set': acc_distill,\n",
        "}\n",
        "\n",
        "for k, v in results.items():\n",
        "    print(f'{k:<12}: {v:5.2f}%')\n",
        "\n",
        "# Bar chart\n",
        "plt.figure(figsize=(6,4))\n",
        "plt.bar(results.keys(), results.values())\n",
        "plt.ylabel('Accuracy (%)')\n",
        "plt.title('LeNet Performance Comparison on MNIST Test Set')\n",
        "plt.ylim(0, 100)\n",
        "for i, v in enumerate(results.values()):\n",
        "    plt.text(i, v + 1, f'{v:.1f}%', ha='center')\n",
        "plt.show()\n"
      ]
    },
    {
      "cell_type": "code",
      "source": [],
      "metadata": {
        "id": "SJT6Db9RAEIr"
      },
      "id": "SJT6Db9RAEIr",
      "execution_count": null,
      "outputs": []
    }
  ],
  "metadata": {
    "language_info": {
      "name": "python"
    },
    "colab": {
      "provenance": [],
      "gpuType": "A100"
    },
    "accelerator": "GPU",
    "kernelspec": {
      "name": "python3",
      "display_name": "Python 3"
    }
  },
  "nbformat": 4,
  "nbformat_minor": 5
}
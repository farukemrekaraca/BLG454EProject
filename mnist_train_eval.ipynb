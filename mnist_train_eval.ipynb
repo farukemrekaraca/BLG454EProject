{
  "cells": [
    {
      "cell_type": "code",
      "source": [
        "from google.colab import drive\n",
        "drive.mount('/content/drive')"
      ],
      "metadata": {
        "colab": {
          "base_uri": "https://localhost:8080/"
        },
        "id": "GqXi0H999KK7",
        "outputId": "40c92a32-bdeb-4d77-b1db-590432a8d321"
      },
      "id": "GqXi0H999KK7",
      "execution_count": 1,
      "outputs": [
        {
          "output_type": "stream",
          "name": "stdout",
          "text": [
            "Mounted at /content/drive\n"
          ]
        }
      ]
    },
    {
      "cell_type": "code",
      "source": [
        "import os\n",
        "project_path = '/content/drive/MyDrive/BLG454EProject'\n",
        "os.chdir(project_path)\n",
        "\n",
        "!ls"
      ],
      "metadata": {
        "colab": {
          "base_uri": "https://localhost:8080/"
        },
        "id": "QE5m61Ef9akc",
        "outputId": "1c1c32c1-eef7-4cd7-9a32-f0b5725c0688"
      },
      "id": "QE5m61Ef9akc",
      "execution_count": 2,
      "outputs": [
        {
          "output_type": "stream",
          "name": "stdout",
          "text": [
            "cifar10_train_eval.ipynb  fashion_train_eval.ipynb\n",
            "distiller\t\t  mnist_train_eval.ipynb\n"
          ]
        }
      ]
    },
    {
      "cell_type": "markdown",
      "id": "bf30daf6",
      "metadata": {
        "id": "bf30daf6"
      },
      "source": [
        "This notebook compares how well a simple **LeNet** model performs when trained on:\n",
        "1. The **full** MNIST training set (60 k images)\n",
        "2. A **randomly‑sampled** subset containing **10 images per class** (100 images total)\n",
        "3. A **distilled** synthetic set generated with Gradient Matching\n",
        "\n",
        "We evaluate each model on the **canonical MNIST test split (10 k images)** and summarise the results.\n"
      ]
    },
    {
      "cell_type": "code",
      "execution_count": 3,
      "id": "d0551cf9",
      "metadata": {
        "colab": {
          "base_uri": "https://localhost:8080/"
        },
        "id": "d0551cf9",
        "outputId": "3a7d5c71-2659-4295-b171-fde899a69023"
      },
      "outputs": [
        {
          "output_type": "stream",
          "name": "stdout",
          "text": [
            "Using device: cuda\n"
          ]
        }
      ],
      "source": [
        "import os, random, math, time, copy\n",
        "import numpy as np\n",
        "from pathlib import Path\n",
        "import torch\n",
        "import torch.nn as nn\n",
        "import torch.optim as optim\n",
        "from torch.utils.data import DataLoader, Subset, TensorDataset\n",
        "from torchvision import datasets, transforms\n",
        "import matplotlib.pyplot as plt\n",
        "from distiller.models.LeNet import LeNet\n",
        "\n",
        "# Reproducibility\n",
        "SEED = 42\n",
        "random.seed(SEED)\n",
        "np.random.seed(SEED)\n",
        "torch.manual_seed(SEED)\n",
        "torch.cuda.manual_seed_all(SEED)\n",
        "\n",
        "# Device\n",
        "device = torch.device('cuda' if torch.cuda.is_available() else 'cpu')\n",
        "print('Using device:', device)\n"
      ]
    },
    {
      "cell_type": "code",
      "execution_count": 4,
      "id": "ac9e4725",
      "metadata": {
        "id": "ac9e4725"
      },
      "outputs": [],
      "source": [
        "def train(model, loader, criterion, optimizer, epochs=5, log_interval=100):\n",
        "    model.train()\n",
        "    for epoch in range(1, epochs + 1):\n",
        "        running_loss = 0.0\n",
        "        for batch_idx, (inputs, targets) in enumerate(loader, 1):\n",
        "            inputs, targets = inputs.to(device), targets.to(device)\n",
        "            optimizer.zero_grad()\n",
        "            outputs = model(inputs)\n",
        "            loss = criterion(outputs, targets)\n",
        "            loss.backward()\n",
        "            optimizer.step()\n",
        "            running_loss += loss.item()\n",
        "            if batch_idx % log_interval == 0 or batch_idx == len(loader):\n",
        "                print(f'Epoch {epoch}/{epochs} | Batch {batch_idx}/{len(loader)} | Loss: {running_loss / batch_idx:.4f}', end='\\r')\n",
        "        print(f'Epoch {epoch} finished. Avg Loss: {running_loss / len(loader):.4f}')\n",
        "\n",
        "def evaluate(model, loader):\n",
        "    model.eval()\n",
        "    correct = 0\n",
        "    total = 0\n",
        "    with torch.no_grad():\n",
        "        for inputs, targets in loader:\n",
        "            inputs, targets = inputs.to(device), targets.to(device)\n",
        "            outputs = model(inputs)\n",
        "            preds = outputs.argmax(dim=1)\n",
        "            correct += (preds == targets).sum().item()\n",
        "            total += targets.size(0)\n",
        "    return 100.0 * correct / total\n"
      ]
    },
    {
      "cell_type": "code",
      "execution_count": 5,
      "id": "540b8b09",
      "metadata": {
        "colab": {
          "base_uri": "https://localhost:8080/"
        },
        "id": "540b8b09",
        "outputId": "79bf7f30-bb4a-43f1-8a97-870c2e6bda3b"
      },
      "outputs": [
        {
          "output_type": "stream",
          "name": "stdout",
          "text": [
            "Full training set size: 60000\n"
          ]
        }
      ],
      "source": [
        "transform = transforms.Compose([\n",
        "    transforms.ToTensor(),\n",
        "    transforms.Normalize((0.1307,), (0.3081,)),\n",
        "])\n",
        "\n",
        "root = Path('distiller/data')\n",
        "full_train = datasets.MNIST(root, train=True, download=True, transform=transform)\n",
        "test_set = datasets.MNIST(root, train=False, download=True, transform=transform)\n",
        "\n",
        "test_loader = DataLoader(test_set, batch_size=512, shuffle=False, num_workers=2, pin_memory=True)\n",
        "\n",
        "print(f'Full training set size: {len(full_train)}')"
      ]
    },
    {
      "cell_type": "markdown",
      "id": "b5bd96f0",
      "metadata": {
        "id": "b5bd96f0"
      },
      "source": [
        "## Training on the **full** MNIST training set"
      ]
    },
    {
      "cell_type": "code",
      "execution_count": 6,
      "id": "5b940a64",
      "metadata": {
        "colab": {
          "base_uri": "https://localhost:8080/"
        },
        "id": "5b940a64",
        "outputId": "e1ece198-df4b-44f5-fa22-8a30d0addeb3"
      },
      "outputs": [
        {
          "output_type": "stream",
          "name": "stdout",
          "text": [
            "Epoch 1 finished. Avg Loss: 0.3011\n",
            "\n",
            "Test accuracy (full data): 97.00%\n"
          ]
        }
      ],
      "source": [
        "BATCH_SIZE_FULL = 128\n",
        "EPOCHS_FULL = 1\n",
        "\n",
        "full_loader = DataLoader(full_train, batch_size=BATCH_SIZE_FULL, shuffle=True, num_workers=2, pin_memory=True)\n",
        "\n",
        "model_full = LeNet().to(device)\n",
        "optimizer = optim.Adam(model_full.parameters(), lr=1e-3)\n",
        "criterion = nn.CrossEntropyLoss()\n",
        "\n",
        "train(model_full, full_loader, criterion, optimizer, epochs=EPOCHS_FULL, log_interval=200)\n",
        "acc_full = evaluate(model_full, test_loader)\n",
        "print(f'\\nTest accuracy (full data): {acc_full:.2f}%')"
      ]
    },
    {
      "cell_type": "markdown",
      "id": "18aa9279",
      "metadata": {
        "id": "18aa9279"
      },
      "source": [
        "## Training on a **random** subset (10 images × 10 classes = 100 images)"
      ]
    },
    {
      "cell_type": "code",
      "execution_count": 12,
      "id": "6b818a45",
      "metadata": {
        "colab": {
          "base_uri": "https://localhost:8080/"
        },
        "id": "6b818a45",
        "outputId": "39a49b5a-5e52-45e9-d426-c29ca582513c"
      },
      "outputs": [
        {
          "output_type": "stream",
          "name": "stdout",
          "text": [
            "Subset size: 100\n",
            "Epoch 1 finished. Avg Loss: 2.2823\n",
            "Epoch 2 finished. Avg Loss: 2.2360\n",
            "Epoch 3 finished. Avg Loss: 2.1785\n",
            "Epoch 4 finished. Avg Loss: 2.1191\n",
            "Epoch 5 finished. Avg Loss: 1.9601\n",
            "Epoch 6 finished. Avg Loss: 1.8343\n",
            "Epoch 7 finished. Avg Loss: 1.6432\n",
            "Epoch 8 finished. Avg Loss: 1.4877\n",
            "Epoch 9 finished. Avg Loss: 1.3013\n",
            "Epoch 10 finished. Avg Loss: 1.0846\n",
            "Epoch 11 finished. Avg Loss: 0.9049\n",
            "Epoch 12 finished. Avg Loss: 0.6701\n",
            "Epoch 13 finished. Avg Loss: 0.6481\n",
            "Epoch 14 finished. Avg Loss: 0.5000\n",
            "Epoch 15 finished. Avg Loss: 0.4231\n",
            "Epoch 16 finished. Avg Loss: 0.5859\n",
            "Epoch 17 finished. Avg Loss: 0.4004\n",
            "Epoch 18 finished. Avg Loss: 0.2917\n",
            "Epoch 19 finished. Avg Loss: 0.2355\n",
            "Epoch 20 finished. Avg Loss: 0.2816\n",
            "Epoch 21 finished. Avg Loss: 0.2421\n",
            "Epoch 22 finished. Avg Loss: 0.1473\n",
            "Epoch 23 finished. Avg Loss: 0.1507\n",
            "Epoch 24 finished. Avg Loss: 0.1070\n",
            "Epoch 25 finished. Avg Loss: 0.1338\n",
            "Epoch 26 finished. Avg Loss: 0.1013\n",
            "Epoch 27 finished. Avg Loss: 0.0707\n",
            "Epoch 28 finished. Avg Loss: 0.0651\n",
            "Epoch 29 finished. Avg Loss: 0.0625\n",
            "Epoch 30 finished. Avg Loss: 0.0395\n",
            "\n",
            "Test accuracy (random 100 examples): 78.31%\n"
          ]
        }
      ],
      "source": [
        "def stratified_random_subset(dataset, per_class=10):\n",
        "    targets = np.array(dataset.targets)\n",
        "    indices = []\n",
        "    for cls in range(10):\n",
        "        cls_idx = np.where(targets == cls)[0]\n",
        "        indices.extend(np.random.choice(cls_idx, per_class, replace=False))\n",
        "    return indices\n",
        "\n",
        "subset_indices = stratified_random_subset(full_train, per_class=10)\n",
        "small_train = Subset(full_train, subset_indices)\n",
        "print('Subset size:', len(small_train))\n",
        "\n",
        "BATCH_SIZE_SMALL = 32\n",
        "EPOCHS_SMALL = 30  # More epochs because dataset is tiny\n",
        "\n",
        "small_loader = DataLoader(small_train, batch_size=BATCH_SIZE_SMALL, shuffle=True, num_workers=2, pin_memory=True)\n",
        "\n",
        "model_small = LeNet().to(device)\n",
        "optimizer_small = optim.Adam(model_small.parameters(), lr=1e-3)\n",
        "criterion_small = nn.CrossEntropyLoss()\n",
        "\n",
        "train(model_small, small_loader, criterion_small, optimizer_small, epochs=EPOCHS_SMALL, log_interval=1)\n",
        "acc_small = evaluate(model_small, test_loader)\n",
        "print(f'\\nTest accuracy (random 100 examples): {acc_small:.2f}%')"
      ]
    },
    {
      "cell_type": "markdown",
      "id": "968de68d",
      "metadata": {
        "id": "968de68d"
      },
      "source": [
        "## Training on the **distilled synthetic** set"
      ]
    },
    {
      "cell_type": "code",
      "execution_count": 10,
      "id": "b0da6bfb",
      "metadata": {
        "colab": {
          "base_uri": "https://localhost:8080/"
        },
        "id": "b0da6bfb",
        "outputId": "e8ba12c7-7716-461f-b09c-4efc2b723e82"
      },
      "outputs": [
        {
          "output_type": "stream",
          "name": "stdout",
          "text": [
            "Synthetic set shape: torch.Size([100, 1, 28, 28])\n",
            "Epoch 1/300 | Batch 1/4 | Loss: 2.2984\rEpoch 1/300 | Batch 2/4 | Loss: 2.2950\rEpoch 1/300 | Batch 3/4 | Loss: 2.3116\rEpoch 1/300 | Batch 4/4 | Loss: 2.3389\rEpoch 1 finished. Avg Loss: 2.3389\n",
            "Epoch 2/300 | Batch 1/4 | Loss: 2.2718\rEpoch 2/300 | Batch 2/4 | Loss: 2.2719\rEpoch 2/300 | Batch 3/4 | Loss: 2.2687\rEpoch 2/300 | Batch 4/4 | Loss: 2.2618\rEpoch 2 finished. Avg Loss: 2.2618\n",
            "Epoch 3/300 | Batch 1/4 | Loss: 2.2553\rEpoch 3/300 | Batch 2/4 | Loss: 2.2457\rEpoch 3/300 | Batch 3/4 | Loss: 2.2464\rEpoch 3/300 | Batch 4/4 | Loss: 2.2229\rEpoch 3 finished. Avg Loss: 2.2229\n",
            "Epoch 4/300 | Batch 1/4 | Loss: 2.2226\rEpoch 4/300 | Batch 2/4 | Loss: 2.2159\rEpoch 4/300 | Batch 3/4 | Loss: 2.1914\rEpoch 4/300 | Batch 4/4 | Loss: 2.1756\rEpoch 4 finished. Avg Loss: 2.1756\n",
            "Epoch 5/300 | Batch 1/4 | Loss: 2.1732\rEpoch 5/300 | Batch 2/4 | Loss: 2.1232\rEpoch 5/300 | Batch 3/4 | Loss: 2.0978\rEpoch 5/300 | Batch 4/4 | Loss: 2.1383\rEpoch 5 finished. Avg Loss: 2.1383\n",
            "Epoch 6/300 | Batch 1/4 | Loss: 2.0181\rEpoch 6/300 | Batch 2/4 | Loss: 1.9888\rEpoch 6/300 | Batch 3/4 | Loss: 1.9809\rEpoch 6/300 | Batch 4/4 | Loss: 2.0018\rEpoch 6 finished. Avg Loss: 2.0018\n",
            "Epoch 7/300 | Batch 1/4 | Loss: 1.9067\rEpoch 7/300 | Batch 2/4 | Loss: 1.8265\rEpoch 7/300 | Batch 3/4 | Loss: 1.8227\rEpoch 7/300 | Batch 4/4 | Loss: 1.8174\rEpoch 7 finished. Avg Loss: 1.8174\n",
            "Epoch 8/300 | Batch 1/4 | Loss: 1.6672\rEpoch 8/300 | Batch 2/4 | Loss: 1.5993\rEpoch 8/300 | Batch 3/4 | Loss: 1.5936\rEpoch 8/300 | Batch 4/4 | Loss: 1.5837\rEpoch 8 finished. Avg Loss: 1.5837\n",
            "Epoch 9/300 | Batch 1/4 | Loss: 1.4513\rEpoch 9/300 | Batch 2/4 | Loss: 1.3992\rEpoch 9/300 | Batch 3/4 | Loss: 1.3414\rEpoch 9/300 | Batch 4/4 | Loss: 1.2059\rEpoch 9 finished. Avg Loss: 1.2059\n",
            "Epoch 10/300 | Batch 1/4 | Loss: 1.0622\rEpoch 10/300 | Batch 2/4 | Loss: 0.9720\rEpoch 10/300 | Batch 3/4 | Loss: 1.0136\rEpoch 10/300 | Batch 4/4 | Loss: 0.9204\rEpoch 10 finished. Avg Loss: 0.9204\n",
            "Epoch 11/300 | Batch 1/4 | Loss: 0.7260\rEpoch 11/300 | Batch 2/4 | Loss: 0.7712\rEpoch 11/300 | Batch 3/4 | Loss: 0.7413\rEpoch 11/300 | Batch 4/4 | Loss: 0.7181\rEpoch 11 finished. Avg Loss: 0.7181\n",
            "Epoch 12/300 | Batch 1/4 | Loss: 0.5007\rEpoch 12/300 | Batch 2/4 | Loss: 0.4715\rEpoch 12/300 | Batch 3/4 | Loss: 0.4633\rEpoch 12/300 | Batch 4/4 | Loss: 0.5227\rEpoch 12 finished. Avg Loss: 0.5227\n",
            "Epoch 13/300 | Batch 1/4 | Loss: 0.4328\rEpoch 13/300 | Batch 2/4 | Loss: 0.3679\rEpoch 13/300 | Batch 3/4 | Loss: 0.3360\rEpoch 13/300 | Batch 4/4 | Loss: 0.2963\rEpoch 13 finished. Avg Loss: 0.2963\n",
            "Epoch 14/300 | Batch 1/4 | Loss: 0.2140\rEpoch 14/300 | Batch 2/4 | Loss: 0.2072\rEpoch 14/300 | Batch 3/4 | Loss: 0.1889\rEpoch 14/300 | Batch 4/4 | Loss: 0.1827\rEpoch 14 finished. Avg Loss: 0.1827\n",
            "Epoch 15/300 | Batch 1/4 | Loss: 0.0800\rEpoch 15/300 | Batch 2/4 | Loss: 0.1057\rEpoch 15/300 | Batch 3/4 | Loss: 0.1501\rEpoch 15/300 | Batch 4/4 | Loss: 0.1325\rEpoch 15 finished. Avg Loss: 0.1325\n",
            "Epoch 16/300 | Batch 1/4 | Loss: 0.0738\rEpoch 16/300 | Batch 2/4 | Loss: 0.0767\rEpoch 16/300 | Batch 3/4 | Loss: 0.0792\rEpoch 16/300 | Batch 4/4 | Loss: 0.0700\rEpoch 16 finished. Avg Loss: 0.0700\n",
            "Epoch 17/300 | Batch 1/4 | Loss: 0.0891\rEpoch 17/300 | Batch 2/4 | Loss: 0.0802\rEpoch 17/300 | Batch 3/4 | Loss: 0.0654\rEpoch 17/300 | Batch 4/4 | Loss: 0.0557\rEpoch 17 finished. Avg Loss: 0.0557\n",
            "Epoch 18 finished. Avg Loss: 0.0308\n",
            "Epoch 19 finished. Avg Loss: 0.0271\n",
            "Epoch 20 finished. Avg Loss: 0.0279\n",
            "Epoch 21 finished. Avg Loss: 0.0165\n",
            "Epoch 22 finished. Avg Loss: 0.0121\n",
            "Epoch 23 finished. Avg Loss: 0.0111\n",
            "Epoch 24 finished. Avg Loss: 0.0073\n",
            "Epoch 25 finished. Avg Loss: 0.0094\n",
            "Epoch 26 finished. Avg Loss: 0.0059\n",
            "Epoch 27 finished. Avg Loss: 0.0154\n",
            "Epoch 28 finished. Avg Loss: 0.0087\n",
            "Epoch 29 finished. Avg Loss: 0.0128\n",
            "Epoch 30 finished. Avg Loss: 0.0033\n",
            "Epoch 31 finished. Avg Loss: 0.0079\n",
            "Epoch 32 finished. Avg Loss: 0.0042\n",
            "Epoch 33 finished. Avg Loss: 0.0029\n",
            "Epoch 34 finished. Avg Loss: 0.0034\n",
            "Epoch 35 finished. Avg Loss: 0.0033\n",
            "Epoch 36 finished. Avg Loss: 0.0036\n",
            "Epoch 37 finished. Avg Loss: 0.0027\n",
            "Epoch 38 finished. Avg Loss: 0.0029\n",
            "Epoch 39 finished. Avg Loss: 0.0027\n",
            "Epoch 40 finished. Avg Loss: 0.0020\n",
            "Epoch 41 finished. Avg Loss: 0.0020\n",
            "Epoch 42 finished. Avg Loss: 0.0019\n",
            "Epoch 43 finished. Avg Loss: 0.0021\n",
            "Epoch 44 finished. Avg Loss: 0.0017\n",
            "Epoch 45 finished. Avg Loss: 0.0014\n",
            "Epoch 46 finished. Avg Loss: 0.0020\n",
            "Epoch 47 finished. Avg Loss: 0.0017\n",
            "Epoch 48 finished. Avg Loss: 0.0020\n",
            "Epoch 49 finished. Avg Loss: 0.0024\n",
            "Epoch 50 finished. Avg Loss: 0.0014\n",
            "Epoch 51 finished. Avg Loss: 0.0014\n",
            "Epoch 52 finished. Avg Loss: 0.0011\n",
            "Epoch 53 finished. Avg Loss: 0.0018\n",
            "Epoch 54 finished. Avg Loss: 0.0010\n",
            "Epoch 55 finished. Avg Loss: 0.0012\n",
            "Epoch 56 finished. Avg Loss: 0.0011\n",
            "Epoch 57 finished. Avg Loss: 0.0013\n",
            "Epoch 58 finished. Avg Loss: 0.0013\n",
            "Epoch 59 finished. Avg Loss: 0.0010\n",
            "Epoch 60 finished. Avg Loss: 0.0009\n",
            "Epoch 61 finished. Avg Loss: 0.0009\n",
            "Epoch 62 finished. Avg Loss: 0.0008\n",
            "Epoch 63 finished. Avg Loss: 0.0011\n",
            "Epoch 64 finished. Avg Loss: 0.0009\n",
            "Epoch 65 finished. Avg Loss: 0.0011\n",
            "Epoch 66 finished. Avg Loss: 0.0010\n",
            "Epoch 67 finished. Avg Loss: 0.0009\n",
            "Epoch 68 finished. Avg Loss: 0.0007\n",
            "Epoch 69 finished. Avg Loss: 0.0008\n",
            "Epoch 70 finished. Avg Loss: 0.0008\n",
            "Epoch 71 finished. Avg Loss: 0.0011\n",
            "Epoch 72 finished. Avg Loss: 0.0007\n",
            "Epoch 73 finished. Avg Loss: 0.0010\n",
            "Epoch 74 finished. Avg Loss: 0.0006\n",
            "Epoch 75 finished. Avg Loss: 0.0007\n",
            "Epoch 76 finished. Avg Loss: 0.0010\n",
            "Epoch 77 finished. Avg Loss: 0.0005\n",
            "Epoch 78 finished. Avg Loss: 0.0006\n",
            "Epoch 79 finished. Avg Loss: 0.0007\n",
            "Epoch 80 finished. Avg Loss: 0.0007\n",
            "Epoch 81 finished. Avg Loss: 0.0006\n",
            "Epoch 82 finished. Avg Loss: 0.0005\n",
            "Epoch 83 finished. Avg Loss: 0.0008\n",
            "Epoch 84 finished. Avg Loss: 0.0005\n",
            "Epoch 85 finished. Avg Loss: 0.0005\n",
            "Epoch 86 finished. Avg Loss: 0.0006\n",
            "Epoch 87 finished. Avg Loss: 0.0007\n",
            "Epoch 88 finished. Avg Loss: 0.0004\n",
            "Epoch 89 finished. Avg Loss: 0.0005\n",
            "Epoch 90 finished. Avg Loss: 0.0005\n",
            "Epoch 91 finished. Avg Loss: 0.0008\n",
            "Epoch 92 finished. Avg Loss: 0.0005\n",
            "Epoch 93 finished. Avg Loss: 0.0005\n",
            "Epoch 94 finished. Avg Loss: 0.0005\n",
            "Epoch 95 finished. Avg Loss: 0.0004\n",
            "Epoch 96 finished. Avg Loss: 0.0004\n",
            "Epoch 97 finished. Avg Loss: 0.0006\n",
            "Epoch 98 finished. Avg Loss: 0.0004\n",
            "Epoch 99 finished. Avg Loss: 0.0004\n",
            "Epoch 100 finished. Avg Loss: 0.0004\n",
            "Epoch 101 finished. Avg Loss: 0.0004\n",
            "Epoch 102 finished. Avg Loss: 0.0005\n",
            "Epoch 103 finished. Avg Loss: 0.0004\n",
            "Epoch 104 finished. Avg Loss: 0.0003\n",
            "Epoch 105 finished. Avg Loss: 0.0004\n",
            "Epoch 106 finished. Avg Loss: 0.0004\n",
            "Epoch 107 finished. Avg Loss: 0.0003\n",
            "Epoch 108 finished. Avg Loss: 0.0003\n",
            "Epoch 109 finished. Avg Loss: 0.0003\n",
            "Epoch 110 finished. Avg Loss: 0.0004\n",
            "Epoch 111 finished. Avg Loss: 0.0003\n",
            "Epoch 112 finished. Avg Loss: 0.0004\n",
            "Epoch 113 finished. Avg Loss: 0.0003\n",
            "Epoch 114 finished. Avg Loss: 0.0003\n",
            "Epoch 115 finished. Avg Loss: 0.0003\n",
            "Epoch 116 finished. Avg Loss: 0.0003\n",
            "Epoch 117 finished. Avg Loss: 0.0003\n",
            "Epoch 118 finished. Avg Loss: 0.0003\n",
            "Epoch 119 finished. Avg Loss: 0.0003\n",
            "Epoch 120 finished. Avg Loss: 0.0003\n",
            "Epoch 121 finished. Avg Loss: 0.0003\n",
            "Epoch 122 finished. Avg Loss: 0.0004\n",
            "Epoch 123 finished. Avg Loss: 0.0003\n",
            "Epoch 124 finished. Avg Loss: 0.0002\n",
            "Epoch 125 finished. Avg Loss: 0.0004\n",
            "Epoch 126 finished. Avg Loss: 0.0003\n",
            "Epoch 127 finished. Avg Loss: 0.0003\n",
            "Epoch 128 finished. Avg Loss: 0.0003\n",
            "Epoch 129 finished. Avg Loss: 0.0003\n",
            "Epoch 130 finished. Avg Loss: 0.0003\n",
            "Epoch 131 finished. Avg Loss: 0.0002\n",
            "Epoch 132 finished. Avg Loss: 0.0002\n",
            "Epoch 133 finished. Avg Loss: 0.0002\n",
            "Epoch 134 finished. Avg Loss: 0.0002\n",
            "Epoch 135 finished. Avg Loss: 0.0003\n",
            "Epoch 136 finished. Avg Loss: 0.0002\n",
            "Epoch 137 finished. Avg Loss: 0.0003\n",
            "Epoch 138 finished. Avg Loss: 0.0002\n",
            "Epoch 139 finished. Avg Loss: 0.0003\n",
            "Epoch 140 finished. Avg Loss: 0.0003\n",
            "Epoch 141 finished. Avg Loss: 0.0002\n",
            "Epoch 142 finished. Avg Loss: 0.0003\n",
            "Epoch 143 finished. Avg Loss: 0.0002\n",
            "Epoch 144 finished. Avg Loss: 0.0002\n",
            "Epoch 145 finished. Avg Loss: 0.0002\n",
            "Epoch 146 finished. Avg Loss: 0.0002\n",
            "Epoch 147 finished. Avg Loss: 0.0002\n",
            "Epoch 148 finished. Avg Loss: 0.0002\n",
            "Epoch 149 finished. Avg Loss: 0.0002\n",
            "Epoch 150 finished. Avg Loss: 0.0002\n",
            "Epoch 151 finished. Avg Loss: 0.0002\n",
            "Epoch 152 finished. Avg Loss: 0.0002\n",
            "Epoch 153 finished. Avg Loss: 0.0002\n",
            "Epoch 154 finished. Avg Loss: 0.0002\n",
            "Epoch 155 finished. Avg Loss: 0.0002\n",
            "Epoch 156 finished. Avg Loss: 0.0002\n",
            "Epoch 157 finished. Avg Loss: 0.0002\n",
            "Epoch 158 finished. Avg Loss: 0.0001\n",
            "Epoch 159 finished. Avg Loss: 0.0002\n",
            "Epoch 160 finished. Avg Loss: 0.0002\n",
            "Epoch 161 finished. Avg Loss: 0.0002\n",
            "Epoch 162 finished. Avg Loss: 0.0001\n",
            "Epoch 163 finished. Avg Loss: 0.0002\n",
            "Epoch 164 finished. Avg Loss: 0.0002\n",
            "Epoch 165 finished. Avg Loss: 0.0002\n",
            "Epoch 166 finished. Avg Loss: 0.0002\n",
            "Epoch 167 finished. Avg Loss: 0.0001\n",
            "Epoch 168 finished. Avg Loss: 0.0002\n",
            "Epoch 169 finished. Avg Loss: 0.0001\n",
            "Epoch 170 finished. Avg Loss: 0.0002\n",
            "Epoch 171 finished. Avg Loss: 0.0001\n",
            "Epoch 172 finished. Avg Loss: 0.0002\n",
            "Epoch 173 finished. Avg Loss: 0.0002\n",
            "Epoch 174 finished. Avg Loss: 0.0001\n",
            "Epoch 175 finished. Avg Loss: 0.0001\n",
            "Epoch 176 finished. Avg Loss: 0.0001\n",
            "Epoch 177 finished. Avg Loss: 0.0002\n",
            "Epoch 178 finished. Avg Loss: 0.0001\n",
            "Epoch 179 finished. Avg Loss: 0.0002\n",
            "Epoch 180 finished. Avg Loss: 0.0002\n",
            "Epoch 181 finished. Avg Loss: 0.0002\n",
            "Epoch 182 finished. Avg Loss: 0.0001\n",
            "Epoch 183 finished. Avg Loss: 0.0001\n",
            "Epoch 184 finished. Avg Loss: 0.0001\n",
            "Epoch 185 finished. Avg Loss: 0.0002\n",
            "Epoch 186 finished. Avg Loss: 0.0001\n",
            "Epoch 187 finished. Avg Loss: 0.0002\n",
            "Epoch 188 finished. Avg Loss: 0.0001\n",
            "Epoch 189 finished. Avg Loss: 0.0001\n",
            "Epoch 190 finished. Avg Loss: 0.0002\n",
            "Epoch 191 finished. Avg Loss: 0.0001\n",
            "Epoch 192 finished. Avg Loss: 0.0001\n",
            "Epoch 193 finished. Avg Loss: 0.0001\n",
            "Epoch 194 finished. Avg Loss: 0.0001\n",
            "Epoch 195 finished. Avg Loss: 0.0001\n",
            "Epoch 196 finished. Avg Loss: 0.0001\n",
            "Epoch 197 finished. Avg Loss: 0.0001\n",
            "Epoch 198 finished. Avg Loss: 0.0001\n",
            "Epoch 199 finished. Avg Loss: 0.0001\n",
            "Epoch 200 finished. Avg Loss: 0.0001\n",
            "Epoch 201 finished. Avg Loss: 0.0001\n",
            "Epoch 202 finished. Avg Loss: 0.0001\n",
            "Epoch 203 finished. Avg Loss: 0.0001\n",
            "Epoch 204 finished. Avg Loss: 0.0001\n",
            "Epoch 205 finished. Avg Loss: 0.0001\n",
            "Epoch 206 finished. Avg Loss: 0.0001\n",
            "Epoch 207 finished. Avg Loss: 0.0001\n",
            "Epoch 208 finished. Avg Loss: 0.0001\n",
            "Epoch 209 finished. Avg Loss: 0.0001\n",
            "Epoch 210 finished. Avg Loss: 0.0001\n",
            "Epoch 211 finished. Avg Loss: 0.0001\n",
            "Epoch 212 finished. Avg Loss: 0.0001\n",
            "Epoch 213 finished. Avg Loss: 0.0001\n",
            "Epoch 214 finished. Avg Loss: 0.0001\n",
            "Epoch 215 finished. Avg Loss: 0.0001\n",
            "Epoch 216 finished. Avg Loss: 0.0001\n",
            "Epoch 217 finished. Avg Loss: 0.0001\n",
            "Epoch 218 finished. Avg Loss: 0.0001\n",
            "Epoch 219 finished. Avg Loss: 0.0001\n",
            "Epoch 220 finished. Avg Loss: 0.0001\n",
            "Epoch 221 finished. Avg Loss: 0.0001\n",
            "Epoch 222 finished. Avg Loss: 0.0001\n",
            "Epoch 223 finished. Avg Loss: 0.0001\n",
            "Epoch 224 finished. Avg Loss: 0.0001\n",
            "Epoch 225 finished. Avg Loss: 0.0001\n",
            "Epoch 226 finished. Avg Loss: 0.0001\n",
            "Epoch 227 finished. Avg Loss: 0.0001\n",
            "Epoch 228 finished. Avg Loss: 0.0001\n",
            "Epoch 229 finished. Avg Loss: 0.0001\n",
            "Epoch 230 finished. Avg Loss: 0.0001\n",
            "Epoch 231 finished. Avg Loss: 0.0001\n",
            "Epoch 232 finished. Avg Loss: 0.0001\n",
            "Epoch 233 finished. Avg Loss: 0.0001\n",
            "Epoch 234 finished. Avg Loss: 0.0001\n",
            "Epoch 235 finished. Avg Loss: 0.0001\n",
            "Epoch 236 finished. Avg Loss: 0.0001\n",
            "Epoch 237 finished. Avg Loss: 0.0001\n",
            "Epoch 238 finished. Avg Loss: 0.0001\n",
            "Epoch 239 finished. Avg Loss: 0.0001\n",
            "Epoch 240 finished. Avg Loss: 0.0001\n",
            "Epoch 241 finished. Avg Loss: 0.0001\n",
            "Epoch 242 finished. Avg Loss: 0.0001\n",
            "Epoch 243 finished. Avg Loss: 0.0001\n",
            "Epoch 244 finished. Avg Loss: 0.0001\n",
            "Epoch 245 finished. Avg Loss: 0.0001\n",
            "Epoch 246 finished. Avg Loss: 0.0001\n",
            "Epoch 247 finished. Avg Loss: 0.0001\n",
            "Epoch 248 finished. Avg Loss: 0.0001\n",
            "Epoch 249 finished. Avg Loss: 0.0001\n",
            "Epoch 250 finished. Avg Loss: 0.0001\n",
            "Epoch 251 finished. Avg Loss: 0.0001\n",
            "Epoch 252 finished. Avg Loss: 0.0001\n",
            "Epoch 253 finished. Avg Loss: 0.0001\n",
            "Epoch 254 finished. Avg Loss: 0.0001\n",
            "Epoch 255 finished. Avg Loss: 0.0001\n",
            "Epoch 256 finished. Avg Loss: 0.0001\n",
            "Epoch 257 finished. Avg Loss: 0.0001\n",
            "Epoch 258 finished. Avg Loss: 0.0001\n",
            "Epoch 259 finished. Avg Loss: 0.0001\n",
            "Epoch 260 finished. Avg Loss: 0.0001\n",
            "Epoch 261 finished. Avg Loss: 0.0001\n",
            "Epoch 262 finished. Avg Loss: 0.0001\n",
            "Epoch 263 finished. Avg Loss: 0.0001\n",
            "Epoch 264 finished. Avg Loss: 0.0001\n",
            "Epoch 265 finished. Avg Loss: 0.0001\n",
            "Epoch 266 finished. Avg Loss: 0.0001\n",
            "Epoch 267 finished. Avg Loss: 0.0001\n",
            "Epoch 268 finished. Avg Loss: 0.0001\n",
            "Epoch 269 finished. Avg Loss: 0.0001\n",
            "Epoch 270 finished. Avg Loss: 0.0001\n",
            "Epoch 271 finished. Avg Loss: 0.0001\n",
            "Epoch 272 finished. Avg Loss: 0.0001\n",
            "Epoch 273 finished. Avg Loss: 0.0001\n",
            "Epoch 274 finished. Avg Loss: 0.0000\n",
            "Epoch 275 finished. Avg Loss: 0.0001\n",
            "Epoch 276 finished. Avg Loss: 0.0001\n",
            "Epoch 277 finished. Avg Loss: 0.0000\n",
            "Epoch 278 finished. Avg Loss: 0.0001\n",
            "Epoch 279 finished. Avg Loss: 0.0001\n",
            "Epoch 280 finished. Avg Loss: 0.0001\n",
            "Epoch 281 finished. Avg Loss: 0.0001\n",
            "Epoch 282 finished. Avg Loss: 0.0001\n",
            "Epoch 283 finished. Avg Loss: 0.0001\n",
            "Epoch 284 finished. Avg Loss: 0.0001\n",
            "Epoch 285 finished. Avg Loss: 0.0000\n",
            "Epoch 286 finished. Avg Loss: 0.0001\n",
            "Epoch 287 finished. Avg Loss: 0.0000\n",
            "Epoch 288 finished. Avg Loss: 0.0001\n",
            "Epoch 289 finished. Avg Loss: 0.0000\n",
            "Epoch 290 finished. Avg Loss: 0.0001\n",
            "Epoch 291 finished. Avg Loss: 0.0001\n",
            "Epoch 292 finished. Avg Loss: 0.0001\n",
            "Epoch 293 finished. Avg Loss: 0.0001\n",
            "Epoch 294 finished. Avg Loss: 0.0001\n",
            "Epoch 295 finished. Avg Loss: 0.0001\n",
            "Epoch 296 finished. Avg Loss: 0.0000\n",
            "Epoch 297 finished. Avg Loss: 0.0001\n",
            "Epoch 298 finished. Avg Loss: 0.0000\n",
            "Epoch 299 finished. Avg Loss: 0.0001\n",
            "Epoch 300 finished. Avg Loss: 0.0000\n",
            "\n",
            "Test accuracy (distilled set): 81.91%\n"
          ]
        }
      ],
      "source": [
        "SYNSET_PATH = 'distiller/syndata/MNIST_LeNet_ipc-10_exp-0.pt'\n",
        "\n",
        "assert Path(SYNSET_PATH).exists(), (\n",
        "    f'Distilled file not found at {SYNSET_PATH}. ' \\\n",
        "    'Upload it to the Colab session or place it in the working directory.'\n",
        ")\n",
        "\n",
        "checkpoint = torch.load(SYNSET_PATH, map_location='cpu')\n",
        "\n",
        "# Expected keys: images (n, 1, 28, 28) tensor, labels (n) tensor\n",
        "synthetic_images = checkpoint.get('syn_imgs') if isinstance(checkpoint, dict) else checkpoint[0]\n",
        "synthetic_labels = checkpoint.get('syn_labels') if isinstance(checkpoint, dict) else checkpoint[1]\n",
        "\n",
        "print('Synthetic set shape:', synthetic_images.shape)\n",
        "\n",
        "distill_ds = TensorDataset(synthetic_images, synthetic_labels)\n",
        "BATCH_SIZE_DISTILL = 32\n",
        "EPOCHS_DISTILL = 300\n",
        "\n",
        "distill_loader = DataLoader(distill_ds, batch_size=BATCH_SIZE_DISTILL, shuffle=True)\n",
        "\n",
        "model_distill = LeNet().to(device)\n",
        "optimizer_distill = optim.Adam(model_distill.parameters(), lr=1e-3)\n",
        "criterion_distill = nn.CrossEntropyLoss()\n",
        "\n",
        "train(model_distill, distill_loader, criterion_distill, optimizer_distill, epochs=EPOCHS_DISTILL, log_interval=1)\n",
        "acc_distill = evaluate(model_distill, test_loader)\n",
        "print(f'\\nTest accuracy (distilled set): {acc_distill:.2f}%')"
      ]
    },
    {
      "cell_type": "markdown",
      "id": "3f7a3645",
      "metadata": {
        "id": "3f7a3645"
      },
      "source": [
        "## Result Summary"
      ]
    },
    {
      "cell_type": "code",
      "execution_count": 13,
      "id": "fb2ffd46",
      "metadata": {
        "colab": {
          "base_uri": "https://localhost:8080/",
          "height": 443
        },
        "id": "fb2ffd46",
        "outputId": "fcb1943b-4eae-4b18-b1a2-63e727cdb1b9"
      },
      "outputs": [
        {
          "output_type": "stream",
          "name": "stdout",
          "text": [
            "Full Data   : 97.00%\n",
            "Random 100  : 78.31%\n",
            "Distilled Set: 81.91%\n"
          ]
        },
        {
          "output_type": "display_data",
          "data": {
            "text/plain": [
              "<Figure size 600x400 with 1 Axes>"
            ],
            "image/png": "[encoded data removed]"
          },
          "metadata": {}
        }
      ],
      "source": [
        "results = {\n",
        "    'Full Data': acc_full,\n",
        "    'Random 100': acc_small,\n",
        "    'Distilled Set': acc_distill,\n",
        "}\n",
        "\n",
        "for k, v in results.items():\n",
        "    print(f'{k:<12}: {v:5.2f}%')\n",
        "\n",
        "# Bar chart\n",
        "plt.figure(figsize=(6,4))\n",
        "plt.bar(results.keys(), results.values())\n",
        "plt.ylabel('Accuracy (%)')\n",
        "plt.title('LeNet Performance Comparison on MNIST Test Set')\n",
        "plt.ylim(0, 100)\n",
        "for i, v in enumerate(results.values()):\n",
        "    plt.text(i, v + 1, f'{v:.1f}%', ha='center')\n",
        "plt.show()\n"
      ]
    },
    {
      "cell_type": "code",
      "source": [],
      "metadata": {
        "id": "LvNzQGO8-fMD"
      },
      "id": "LvNzQGO8-fMD",
      "execution_count": null,
      "outputs": []
    }
  ],
  "metadata": {
    "kernelspec": {
      "display_name": "Python 3",
      "name": "python3"
    },
    "language_info": {
      "codemirror_mode": {
        "name": "ipython",
        "version": 3
      },
      "file_extension": ".py",
      "mimetype": "text/x-python",
      "name": "python",
      "nbconvert_exporter": "python",
      "pygments_lexer": "ipython3",
      "version": "3.12.11"
    },
    "colab": {
      "provenance": [],
      "gpuType": "A100"
    },
    "accelerator": "GPU"
  },
  "nbformat": 4,
  "nbformat_minor": 5
}